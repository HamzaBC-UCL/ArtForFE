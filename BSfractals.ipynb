{
 "cells": [
  {
   "cell_type": "code",
   "execution_count": 1,
   "metadata": {},
   "outputs": [],
   "source": [
    "# Parth Parakh & Hamza BC\n",
    "# purpose: based on code by Yiran Cui, Sebastian Rollin, Guido Germano, Stability of calibration procedures: fractals in the Black-Scholes model,arXiv:1612.0195, 2016.\n",
    "\n",
    "## import modules\n",
    "import numpy as np\n",
    "import sys\n",
    "from numpy import linalg as LA\n",
    "from scipy import special as sp\n",
    "import matplotlib.pyplot as plt"
   ]
  },
  {
   "cell_type": "code",
   "execution_count": null,
   "metadata": {},
   "outputs": [],
   "source": [
    "## Helper function\n",
    "def isInRange(x):\n",
    "    #returns true if x is within the reasonable region for normcdfc\n",
    "    #by reasonable region, we mean the figure in http://mathworld.wolfram.com/Erf.html\n",
    "    phi = np.angle(x);\n",
    "    r = np.abs(x);\n",
    "    if( np.log(r)>300 or np.log(r)>3.5 and ((phi>np.pi/4 and phi<3*np.pi/4) or (phi<-np.pi/4 and phi>-3*np.pi/4)) ) :\n",
    "        return 0;\n",
    "    return 1;\n",
    "\n",
    "def normcdfc(x):\n",
    "    IsInRange = isInRange(x);\n",
    "    if(not IsInRange):\n",
    "        y = 0;\n",
    "    else:\n",
    "        y = 0.5+0.5*sp.erf(x/(np.sqrt(2)));\n",
    "    if np.isnan(y):\n",
    "        print('NaN returned by normcdfc, this should not happen, please fix it');\n",
    "        sys.exit(1)\n",
    "    if np.isinf(np.real(y)):\n",
    "        print('Inf returned by normcdfc, this should not happen, please fix it');\n",
    "        sys.exit(1)\n",
    "    return y, IsInRange;\n",
    "\n",
    "\n",
    "#-----------------------------------------------\n",
    "# returns                                      #\n",
    "# result =   1 converges to a complex root     #\n",
    "#            0 converges to a real root        #\n",
    "#           -1 diverges                        #\n",
    "# iter = number of steps it takes to terminate #\n",
    "# convergeVol: convergence value               #\n",
    "#-----------------------------------------------\n",
    "\n",
    "def BSiteration(v0, x, b, realvol, flag, maxit, tol):\n",
    "    result=-2;iterr=0;convergeVol=0;\n",
    "    while(iterr <= maxit):\n",
    "        iterr=iterr+1;\n",
    "        d1 = (x/v0 + 0.5*v0)*flag;\n",
    "        d2 = (x/v0 - 0.5*v0)*flag;\n",
    "        N1, isInRange1 = normcdfc(d1);\n",
    "        N2, isInRange2 = normcdfc(d2);\n",
    "        if( (not isInRange1) or (not isInRange2) ):\n",
    "            convergeVol = 0;\n",
    "            result = -1;       # divergence\n",
    "            break\n",
    "        numerator = flag*np.exp(0.5*x)*N1 - flag*np.exp(-0.5*x)*N2-b;\n",
    "        #denominator = (1/np.sqrt(2*np.pi)) * np.exp((-x*x)/(2*(v0**2))-(v0**2)/8);\n",
    "        denominator = 1/np.sqrt(2*np.pi)*np.exp(-x*x/(2*(v0**2))-(v0**2)/8);\n",
    "        v1 = v0 - numerator/denominator;\n",
    "        if (np.isinf(np.real(v1))):\n",
    "            convergeVol = 0;\n",
    "            result = -1; # divergence\n",
    "            break\n",
    "        if ( LA.norm(v1-v0)/LA.norm(v0) < tol) :\n",
    "            convergeVol = v1;\n",
    "            if(LA.norm(convergeVol - realvol)/LA.norm(realvol))<tol:\n",
    "                result = 0;\n",
    "            else :\n",
    "                result = 1;\n",
    "            break\n",
    "        v0 = v1;\n",
    "    return result, iterr, convergeVol;"
   ]
  },
  {
   "cell_type": "code",
   "execution_count": 22,
   "metadata": {
    "scrolled": true
   },
   "outputs": [
    {
     "name": "stderr",
     "output_type": "stream",
     "text": [
      "C:\\Users\\hamza\\.julia\\conda\\3\\lib\\site-packages\\ipykernel_launcher.py:42: ComplexWarning: Casting complex values to real discards the imaginary part\n",
      "C:\\Users\\hamza\\.julia\\conda\\3\\lib\\site-packages\\ipykernel_launcher.py:50: RuntimeWarning: divide by zero encountered in cdouble_scalars\n",
      "C:\\Users\\hamza\\.julia\\conda\\3\\lib\\site-packages\\ipykernel_launcher.py:50: RuntimeWarning: invalid value encountered in cdouble_scalars\n",
      "C:\\Users\\hamza\\.julia\\conda\\3\\lib\\site-packages\\ipykernel_launcher.py:50: RuntimeWarning: overflow encountered in cdouble_scalars\n",
      "Clipping input data to the valid range for imshow with RGB data ([0..1] for floats or [0..255] for integers).\n"
     ]
    },
    {
     "data": {
      "image/png": "[encoded data removed]",
      "text/plain": [
       "<Figure size 432x288 with 1 Axes>"
      ]
     },
     "metadata": {
      "needs_background": "light"
     },
     "output_type": "display_data"
    }
   ],
   "source": [
    "if __name__ == \"__main__\":\n",
    "    # main caller\n",
    "    S = 102.10;\n",
    "    T = 1;\n",
    "    r = 0.0268;\n",
    "    q = 0.0271;\n",
    "    F = S*np.exp((r-q)*T);\n",
    "    realvol = 0.112;\n",
    "    K = 102.76;\n",
    "    flag = 1; # = 1 for call options; = -1 for put optins\n",
    "    x = np.log(F/K);\n",
    "    d1 = (x/(realvol*np.sqrt(T)) + realvol*np.sqrt(T)/2)*flag;\n",
    "    d2 = (x/(realvol*np.sqrt(T)) - realvol*np.sqrt(T)/2)*flag;\n",
    "    Nd1 = 0.5+0.5*sp.erf(d1/(np.sqrt(2)));\n",
    "    Nd2 = 0.5+0.5*sp.erf(d2/(np.sqrt(2)));\n",
    "    pv = np.exp(-r*T)*flag*(F*Nd1 - K*Nd2);\n",
    "    b = np.exp(r*T)*pv/np.sqrt(F*K);\n",
    "    \n",
    "    N = 1001; #the figure plots N*N initial points\n",
    "    result = np.zeros((N, N));\n",
    "    iterr = np.zeros((N, N));\n",
    "    convergeVol = np.zeros((N, N));\n",
    "\n",
    "    ubRe = 1000;\n",
    "    lbRe = -1000;\n",
    "    ubIm = 1000;\n",
    "    lbIm = -1000;\n",
    "    ReAxis = np.linspace(lbRe,ubRe,N);\n",
    "    ImAxis = np.linspace(lbIm,ubIm,N);\n",
    "    xx,yy = np.meshgrid(ReAxis,ImAxis);\n",
    "    z = xx + 1j*yy;\n",
    "    \n",
    "    maxit = 99;\n",
    "    tol = 1e-8;\n",
    "    #The following Newton-Raphson iteration returns:\n",
    "    #\"result\": records whether it converges\n",
    "    #\"iter\": records the number of iterations\n",
    "    #\"convergeVol\": records the convergence value\n",
    "    for m in range(0,N):\n",
    "        for n in range(0,N):\n",
    "            v0 = 0.01 * z[m][n];\n",
    "            result[m][n], iterr[m][n], convergeVol[m][n] = BSiteration(v0, x, b, realvol, flag, maxit, tol);\n",
    "            break \n",
    "            \n",
    "    R = np.ones((N,N));\n",
    "    G = np.zeros((N,N));\n",
    "    B = np.ones((N,N));\n",
    "\n",
    "    #Attraction basin\n",
    "    for m in range(0,N):\n",
    "        for n in range(0,N):\n",
    "            if(result[m][n]==1):\n",
    "                # Converged to a complex root: shade of red\n",
    "                R[m][n] = 204/255 * (7*iterr[m][n])/maxit;\n",
    "                G[m][n] =  56/255 * (7*iterr[m][n])/maxit;\n",
    "                B[m][n] =  49/255 * (7*iterr[m][n])/maxit;\n",
    "            elif result[m][n] == 0:\n",
    "                #Converged to a real root: shade of blue\n",
    "                R[m][n] =  50/255*10*(iterr[m][n]/maxit);\n",
    "                G[m][n] =  91/255*10*(iterr[m][n]/maxit);\n",
    "                B[m][n] = 153/255*10*(iterr[m][n]/maxit);\n",
    "            elif result[m,n] < 0:\n",
    "                #Did not converge: black\n",
    "                R[m][n] =  10/255;\n",
    "                G[m][n] =  10/255;\n",
    "                B[m][n] =  10/255;\n",
    "     \n",
    "    RGB = np.zeros((N,N,3))\n",
    "    RGB[:,:,0] = R;\n",
    "    RGB[:,:,1] = G;\n",
    "    RGB[:,:,2] = B;\n",
    "    \n",
    "    plt.imshow(RGB)\n"
   ]
  },
  {
   "cell_type": "code",
   "execution_count": 14,
   "metadata": {},
   "outputs": [
    {
     "name": "stderr",
     "output_type": "stream",
     "text": [
      "C:\\Users\\hamza\\.julia\\conda\\3\\lib\\site-packages\\ipykernel_launcher.py:17: ComplexWarning: Casting complex values to real discards the imaginary part\n"
     ]
    }
   ],
   "source": [
    "# Test cells\n",
    "\n",
    "S = 102.10;\n",
    "T = 1;\n",
    "r = 0.0268;\n",
    "q = 0.0271;\n",
    "F = S*np.exp((r-q)*T);\n",
    "realvol = 0.112;\n",
    "K = 102.76;\n",
    "flag = 1; # = 1 for call options; = -1 for put optins\n",
    "x = np.log(F/K);\n",
    "x\n",
    "isInRange(x)\n",
    "normcdfc(x)\n",
    "\n",
    "#BSiteration(v0, x, b, realvol, flag, maxit, tol)\n",
    "result[m][n], iterr[m][n], convergeVol[m][n] = BSiteration(v0, x, b, realvol, flag, maxit, tol);"
   ]
  },
  {
   "cell_type": "code",
   "execution_count": null,
   "metadata": {},
   "outputs": [],
   "source": []
  },
  {
   "cell_type": "code",
   "execution_count": null,
   "metadata": {},
   "outputs": [],
   "source": []
  }
 ],
 "metadata": {
  "kernelspec": {
   "display_name": "Python 3",
   "language": "python",
   "name": "python3"
  },
  "language_info": {
   "codemirror_mode": {
    "name": "ipython",
    "version": 3
   },
   "file_extension": ".py",
   "mimetype": "text/x-python",
   "name": "python",
   "nbconvert_exporter": "python",
   "pygments_lexer": "ipython3",
   "version": "3.6.5"
  }
 },
 "nbformat": 4,
 "nbformat_minor": 4
}
